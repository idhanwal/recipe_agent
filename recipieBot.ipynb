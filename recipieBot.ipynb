{
 "cells": [
  {
   "cell_type": "code",
   "execution_count": 2,
   "id": "558db6f2-6a87-4046-a19c-a0d1aa80d305",
   "metadata": {},
   "outputs": [],
   "source": [
    "import numpy as np\n",
    "import pandas as pd\n",
    "import glob"
   ]
  },
  {
   "cell_type": "code",
   "execution_count": 343,
   "id": "6b0fd5d1-afd1-4f59-af01-eb269725720e",
   "metadata": {},
   "outputs": [],
   "source": [
    "folder_path = \"./dataset/metadata_small\"\n",
    "file_pattern = \"/*.json\"\n",
    "file_paths = glob.glob(folder_path + file_pattern)\n",
    "dfs = []\n",
    "for file_path in file_paths:\n",
    "    df = pd.read_json(file_path, lines=True)\n",
    "    dfs.append(df)\n",
    "data = pd.concat(dfs, ignore_index=True)"
   ]
  },
  {
   "cell_type": "code",
   "execution_count": 344,
   "id": "f1578c62-8def-4bfa-ad37-028ce15f5ff1",
   "metadata": {},
   "outputs": [
    {
     "name": "stdout",
     "output_type": "stream",
     "text": [
      "  totalTime                                    ingredientLines  \\\n",
      "0            [cooked pasta, extra virgin olive oil, ragu sa...   \n",
      "\n",
      "                                         attribution            name  rating  \\\n",
      "0  {'url': 'http://www.yummly.com/recipe/Pasta-Fr...  Pasta Frittata       4   \n",
      "\n",
      "   numberOfServings yield                                 nutritionEstimates  \\\n",
      "0                 4        [{'attribute': 'FAT_KCAL', 'unit': {'name': 'c...   \n",
      "\n",
      "                                              source  \\\n",
      "0  {'sourceSiteUrl': 'http://www.antroalchimista....   \n",
      "\n",
      "                                             flavors  \\\n",
      "0  {'Sweet': 0.16670000000000001, 'Sour': 0.0, 'S...   \n",
      "\n",
      "                                              images  \\\n",
      "0  [{'hostedMediumUrl': 'http://lh6.ggpht.com/coK...   \n",
      "\n",
      "                                          attributes                     id  \\\n",
      "0  {'course': ['Main Dishes', 'Lunch and Snacks',...  Pasta-Frittata-518480   \n",
      "\n",
      "   totalTimeInSeconds  prepTimeInSeconds prepTime  cookTimeInSeconds cookTime  \n",
      "0              1500.0                NaN      NaN                NaN      NaN  \n"
     ]
    }
   ],
   "source": [
    "print(data.head(1))"
   ]
  },
  {
   "cell_type": "code",
   "execution_count": 345,
   "id": "9fd132e3-e224-44b3-932a-1413172a5487",
   "metadata": {},
   "outputs": [
    {
     "name": "stdout",
     "output_type": "stream",
     "text": [
      "Index(['totalTime', 'ingredientLines', 'attribution', 'name', 'rating',\n",
      "       'numberOfServings', 'yield', 'nutritionEstimates', 'source', 'flavors',\n",
      "       'images', 'attributes', 'id', 'totalTimeInSeconds', 'prepTimeInSeconds',\n",
      "       'prepTime', 'cookTimeInSeconds', 'cookTime'],\n",
      "      dtype='object')\n"
     ]
    }
   ],
   "source": [
    "print(data.columns)"
   ]
  },
  {
   "cell_type": "code",
   "execution_count": 349,
   "id": "3633a639-bb89-4ae3-b9c5-ef8f1d4ec17e",
   "metadata": {},
   "outputs": [
    {
     "name": "stdout",
     "output_type": "stream",
     "text": [
      "totalTime              202\n",
      "ingredientLines          0\n",
      "attribution              0\n",
      "name                     0\n",
      "rating                   0\n",
      "numberOfServings         0\n",
      "yield                  180\n",
      "nutritionEstimates       0\n",
      "source                   0\n",
      "flavors                  0\n",
      "images                   0\n",
      "attributes               0\n",
      "id                       0\n",
      "totalTimeInSeconds     202\n",
      "prepTimeInSeconds      947\n",
      "prepTime               942\n",
      "cookTimeInSeconds     1167\n",
      "cookTime              1166\n",
      "dtype: int64\n"
     ]
    }
   ],
   "source": [
    "print(data.isna().sum())"
   ]
  },
  {
   "cell_type": "code",
   "execution_count": 351,
   "id": "444a4624-f799-4d45-a71a-20096e25e795",
   "metadata": {},
   "outputs": [],
   "source": [
    "drop_columns = [\"totalTime\", \"attribution\", \"rating\", \"yield\", \"source\", \"flavors\", \"images\", \"attributes\", \"id\", \"totalTimeInSeconds\", \"prepTimeInSeconds\", \"prepTime\", \"cookTimeInSeconds\", \"cookTime\" ]\n",
    "data = data.drop(drop_columns, axis=1)"
   ]
  },
  {
   "cell_type": "code",
   "execution_count": 355,
   "id": "ad438fc1-ea6e-411b-b229-2a13d1576eb0",
   "metadata": {},
   "outputs": [
    {
     "name": "stdout",
     "output_type": "stream",
     "text": [
      "Index(['ingredientLines', 'name', 'numberOfServings', 'nutritionEstimates'], dtype='object')\n"
     ]
    }
   ],
   "source": [
    "print(data.columns)"
   ]
  },
  {
   "cell_type": "code",
   "execution_count": 357,
   "id": "85e6ed48-9fb5-4894-95ef-f2914f48bf06",
   "metadata": {},
   "outputs": [
    {
     "name": "stdout",
     "output_type": "stream",
     "text": [
      "ingredientLines       0\n",
      "name                  0\n",
      "numberOfServings      0\n",
      "nutritionEstimates    0\n",
      "dtype: int64\n"
     ]
    }
   ],
   "source": [
    "print(data.isna().sum())"
   ]
  },
  {
   "cell_type": "code",
   "execution_count": null,
   "id": "ffdccb83-c0f7-432e-bb9f-8d8bd23dc1b6",
   "metadata": {},
   "outputs": [],
   "source": []
  }
 ],
 "metadata": {
  "kernelspec": {
   "display_name": "Python [conda env:base] *",
   "language": "python",
   "name": "conda-base-py"
  },
  "language_info": {
   "codemirror_mode": {
    "name": "ipython",
    "version": 3
   },
   "file_extension": ".py",
   "mimetype": "text/x-python",
   "name": "python",
   "nbconvert_exporter": "python",
   "pygments_lexer": "ipython3",
   "version": "3.12.7"
  }
 },
 "nbformat": 4,
 "nbformat_minor": 5
}
